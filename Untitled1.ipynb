{
  "nbformat": 4,
  "nbformat_minor": 0,
  "metadata": {
    "colab": {
      "provenance": [],
      "authorship_tag": "ABX9TyMPblG/2Y+0US9JKuxg+LmW",
      "include_colab_link": true
    },
    "kernelspec": {
      "name": "python3",
      "display_name": "Python 3"
    },
    "language_info": {
      "name": "python"
    }
  },
  "cells": [
    {
      "cell_type": "markdown",
      "metadata": {
        "id": "view-in-github",
        "colab_type": "text"
      },
      "source": [
        "<a href=\"https://colab.research.google.com/github/mattdias96/xai-bench/blob/main/Untitled1.ipynb\" target=\"_parent\"><img src=\"https://colab.research.google.com/assets/colab-badge.svg\" alt=\"Open In Colab\"/></a>"
      ]
    },
    {
      "cell_type": "code",
      "execution_count": 1,
      "metadata": {
        "colab": {
          "base_uri": "https://localhost:8080/"
        },
        "id": "m8P6A4oo_goV",
        "outputId": "234c04fd-53bf-4f34-fb53-74acecd2b302"
      },
      "outputs": [
        {
          "output_type": "stream",
          "name": "stdout",
          "text": [
            "Cloning into 'xai-bench'...\n",
            "remote: Enumerating objects: 357, done.\u001b[K\n",
            "remote: Counting objects: 100% (357/357), done.\u001b[K\n",
            "remote: Compressing objects: 100% (204/204), done.\u001b[K\n",
            "remote: Total 357 (delta 164), reused 319 (delta 146), pack-reused 0\u001b[K\n",
            "Receiving objects: 100% (357/357), 5.48 MiB | 21.57 MiB/s, done.\n",
            "Resolving deltas: 100% (164/164), done.\n"
          ]
        }
      ],
      "source": [
        "!git clone https://github.com/mattdias96/xai-bench.git"
      ]
    },
    {
      "cell_type": "code",
      "source": [
        "!git clone https://github.com/bondyra/pyBreakDown"
      ],
      "metadata": {
        "colab": {
          "base_uri": "https://localhost:8080/"
        },
        "id": "HnjcUUX5C2hs",
        "outputId": "2a8edd16-6f96-481e-92c6-011eff751d23"
      },
      "execution_count": 18,
      "outputs": [
        {
          "output_type": "stream",
          "name": "stdout",
          "text": [
            "Cloning into 'pyBreakDown'...\n",
            "remote: Enumerating objects: 243, done.\u001b[K\n",
            "remote: Counting objects: 100% (7/7), done.\u001b[K\n",
            "remote: Compressing objects: 100% (7/7), done.\u001b[K\n",
            "remote: Total 243 (delta 1), reused 0 (delta 0), pack-reused 236\u001b[K\n",
            "Receiving objects: 100% (243/243), 475.42 KiB | 3.83 MiB/s, done.\n",
            "Resolving deltas: 100% (121/121), done.\n"
          ]
        }
      ]
    },
    {
      "cell_type": "code",
      "source": [
        "from google.colab import drive\n",
        "\n",
        "drive.mount('/content/gdrive')"
      ],
      "metadata": {
        "colab": {
          "base_uri": "https://localhost:8080/"
        },
        "id": "h_5qwQZn_j1p",
        "outputId": "a2b9cb5a-52a8-4577-e7a7-096cfcb33cd4"
      },
      "execution_count": 2,
      "outputs": [
        {
          "output_type": "stream",
          "name": "stdout",
          "text": [
            "Mounted at /content/gdrive\n"
          ]
        }
      ]
    },
    {
      "cell_type": "code",
      "source": [
        "import os, sys\n",
        "nb_path = '/Untitled0.ipynb'\n",
        "os.symlink('/content/xai-bench', nb_path)\n",
        "sys.path.insert(0,nb_path)"
      ],
      "metadata": {
        "id": "ssodu3jk_mLj"
      },
      "execution_count": 5,
      "outputs": []
    },
    {
      "cell_type": "code",
      "source": [
        "!pip install --target=$nb_path recordclass"
      ],
      "metadata": {
        "colab": {
          "base_uri": "https://localhost:8080/"
        },
        "id": "rzqWCxvsAfcG",
        "outputId": "affe44f7-1581-4f4b-817d-e012f67be19d"
      },
      "execution_count": 21,
      "outputs": [
        {
          "output_type": "stream",
          "name": "stdout",
          "text": [
            "Looking in indexes: https://pypi.org/simple, https://us-python.pkg.dev/colab-wheels/public/simple/\n",
            "Collecting recordclass\n",
            "  Downloading recordclass-0.17.5.tar.gz (1.2 MB)\n",
            "\u001b[K     |████████████████████████████████| 1.2 MB 5.3 MB/s \n",
            "\u001b[?25hBuilding wheels for collected packages: recordclass\n",
            "  Building wheel for recordclass (setup.py) ... \u001b[?25l\u001b[?25hdone\n",
            "  Created wheel for recordclass: filename=recordclass-0.17.5-cp37-cp37m-linux_x86_64.whl size=287497 sha256=914954e18b5582c8f693e8a716d710396dc8116131cfc2c40b8cd41b76bb5810\n",
            "  Stored in directory: /root/.cache/pip/wheels/24/2f/bc/38a349e4875b37b6165d7c162b37484be5aed8d458f7239e25\n",
            "Successfully built recordclass\n",
            "Installing collected packages: recordclass\n",
            "Successfully installed recordclass-0.17.5\n"
          ]
        }
      ]
    },
    {
      "cell_type": "code",
      "source": [
        "#%cd xai-bench\n",
        "!python main_driver.py --mode regression --seed 7 --experiment --experiment-json configs/experiment_config.jsonc --no-logs"
      ],
      "metadata": {
        "colab": {
          "base_uri": "https://localhost:8080/"
        },
        "id": "hx-Qo1-nAita",
        "outputId": "ea42cd03-d9fd-4128-f3c1-de69c96e6fcc"
      },
      "execution_count": 22,
      "outputs": [
        {
          "output_type": "stream",
          "name": "stdout",
          "text": [
            "2022-09-30 15:39:54 INFO     NumExpr defaulting to 2 threads.\n",
            "2022-09-30 15:40:00 INFO     \n",
            " Dataset config is: {\"name\": \"gaussianPiecewiseConstant\", \"data_kwargs\": {\"mu\": \"np.zeros(5)\", \"dim\": 5, \"rho\": 0.5, \"weight\": \"np.array([4, 3, 2, 1, 0])\", \"noise\": 0.01, \"num_train_samples\": 1000, \"num_val_samples\": 100}}\n",
            "Stochastic Optimizer: Maximum iterations (200) reached and the optimization hasn't converged yet.\n",
            "X has feature names, but LinearRegression was fitted without feature names\n",
            "X has feature names, but LinearRegression was fitted without feature names\n",
            "X has feature names, but DecisionTreeRegressor was fitted without feature names\n",
            "X has feature names, but DecisionTreeRegressor was fitted without feature names\n",
            "X has feature names, but MLPRegressor was fitted without feature names\n",
            "X has feature names, but MLPRegressor was fitted without feature names\n",
            " 14% 14/100 [00:04<00:30,  2.85it/s]\n",
            "Traceback (most recent call last):\n",
            "  File \"main_driver.py\", line 153, in <module>\n",
            "    results = experiment.get_results()\n",
            "  File \"/content/xai-bench/src/experiments.py\", line 130, in get_results\n",
            "    ground_truth_expectations, ground_truth_weights= self.generate_ground_truth_explanations(trained_model)\n",
            "  File \"/content/xai-bench/src/experiments.py\", line 74, in generate_ground_truth_explanations\n",
            "    ground_truth_expectation, ground_truth_weight = explainer.explain(x)\n",
            "  File \"/content/xai-bench/custom_explainers/ground_truth_shap.py\", line 94, in explain\n",
            "    x_s, y_s = self.dataset.generate(mask=X[i, :], x=V[i, :], n_sample=self.n)\n",
            "  File \"/content/xai-bench/synthetic_datasets/synthetic_gaussian.py\", line 330, in generate\n",
            "    Y = self.generatetarget(X)\n",
            "  File \"/content/xai-bench/synthetic_datasets/synthetic_gaussian.py\", line 315, in generatetarget\n",
            "    Y = Y + np.random.normal(scale=self.noise, size=(X.shape[0], 1))\n",
            "KeyboardInterrupt\n"
          ]
        }
      ]
    },
    {
      "cell_type": "code",
      "source": [],
      "metadata": {
        "colab": {
          "base_uri": "https://localhost:8080/"
        },
        "id": "BO40feVdBqlY",
        "outputId": "a148a4e6-604c-4a08-ef79-15c0b2174ffb"
      },
      "execution_count": 11,
      "outputs": [
        {
          "output_type": "stream",
          "name": "stdout",
          "text": [
            "/content/xai-bench\n"
          ]
        }
      ]
    },
    {
      "cell_type": "code",
      "source": [],
      "metadata": {
        "id": "KbiHEbKlBsjg"
      },
      "execution_count": null,
      "outputs": []
    }
  ]
}